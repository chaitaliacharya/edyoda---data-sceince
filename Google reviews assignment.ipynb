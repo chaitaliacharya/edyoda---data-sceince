{
 "cells": [
  {
   "cell_type": "code",
   "execution_count": 102,
   "metadata": {},
   "outputs": [],
   "source": [
    "import pandas as pd\n",
    "import numpy as np"
   ]
  },
  {
   "cell_type": "code",
   "execution_count": 103,
   "metadata": {},
   "outputs": [],
   "source": [
    "rating = pd.read_csv('google_review_ratings.csv')"
   ]
  },
  {
   "cell_type": "code",
   "execution_count": 104,
   "metadata": {},
   "outputs": [
    {
     "data": {
      "text/html": [
       "<div>\n",
       "<style scoped>\n",
       "    .dataframe tbody tr th:only-of-type {\n",
       "        vertical-align: middle;\n",
       "    }\n",
       "\n",
       "    .dataframe tbody tr th {\n",
       "        vertical-align: top;\n",
       "    }\n",
       "\n",
       "    .dataframe thead th {\n",
       "        text-align: right;\n",
       "    }\n",
       "</style>\n",
       "<table border=\"1\" class=\"dataframe\">\n",
       "  <thead>\n",
       "    <tr style=\"text-align: right;\">\n",
       "      <th></th>\n",
       "      <th>User</th>\n",
       "      <th>Category 1</th>\n",
       "      <th>Category 2</th>\n",
       "      <th>Category 3</th>\n",
       "      <th>Category 4</th>\n",
       "      <th>Category 5</th>\n",
       "      <th>Category 6</th>\n",
       "      <th>Category 7</th>\n",
       "      <th>Category 8</th>\n",
       "      <th>Category 9</th>\n",
       "      <th>...</th>\n",
       "      <th>Category 16</th>\n",
       "      <th>Category 17</th>\n",
       "      <th>Category 18</th>\n",
       "      <th>Category 19</th>\n",
       "      <th>Category 20</th>\n",
       "      <th>Category 21</th>\n",
       "      <th>Category 22</th>\n",
       "      <th>Category 23</th>\n",
       "      <th>Category 24</th>\n",
       "      <th>Unnamed: 25</th>\n",
       "    </tr>\n",
       "  </thead>\n",
       "  <tbody>\n",
       "    <tr>\n",
       "      <th>0</th>\n",
       "      <td>User 1</td>\n",
       "      <td>0.0</td>\n",
       "      <td>0.0</td>\n",
       "      <td>3.63</td>\n",
       "      <td>3.65</td>\n",
       "      <td>5.0</td>\n",
       "      <td>2.92</td>\n",
       "      <td>5.0</td>\n",
       "      <td>2.35</td>\n",
       "      <td>2.33</td>\n",
       "      <td>...</td>\n",
       "      <td>0.59</td>\n",
       "      <td>0.5</td>\n",
       "      <td>0.0</td>\n",
       "      <td>0.5</td>\n",
       "      <td>0.0</td>\n",
       "      <td>0.0</td>\n",
       "      <td>0.0</td>\n",
       "      <td>0.0</td>\n",
       "      <td>0.0</td>\n",
       "      <td>NaN</td>\n",
       "    </tr>\n",
       "    <tr>\n",
       "      <th>1</th>\n",
       "      <td>User 2</td>\n",
       "      <td>0.0</td>\n",
       "      <td>0.0</td>\n",
       "      <td>3.63</td>\n",
       "      <td>3.65</td>\n",
       "      <td>5.0</td>\n",
       "      <td>2.92</td>\n",
       "      <td>5.0</td>\n",
       "      <td>2.64</td>\n",
       "      <td>2.33</td>\n",
       "      <td>...</td>\n",
       "      <td>0.59</td>\n",
       "      <td>0.5</td>\n",
       "      <td>0.0</td>\n",
       "      <td>0.5</td>\n",
       "      <td>0.0</td>\n",
       "      <td>0.0</td>\n",
       "      <td>0.0</td>\n",
       "      <td>0.0</td>\n",
       "      <td>0.0</td>\n",
       "      <td>NaN</td>\n",
       "    </tr>\n",
       "    <tr>\n",
       "      <th>2</th>\n",
       "      <td>User 3</td>\n",
       "      <td>0.0</td>\n",
       "      <td>0.0</td>\n",
       "      <td>3.63</td>\n",
       "      <td>3.63</td>\n",
       "      <td>5.0</td>\n",
       "      <td>2.92</td>\n",
       "      <td>5.0</td>\n",
       "      <td>2.64</td>\n",
       "      <td>2.33</td>\n",
       "      <td>...</td>\n",
       "      <td>0.59</td>\n",
       "      <td>0.5</td>\n",
       "      <td>0.0</td>\n",
       "      <td>0.5</td>\n",
       "      <td>0.0</td>\n",
       "      <td>0.0</td>\n",
       "      <td>0.0</td>\n",
       "      <td>0.0</td>\n",
       "      <td>0.0</td>\n",
       "      <td>NaN</td>\n",
       "    </tr>\n",
       "  </tbody>\n",
       "</table>\n",
       "<p>3 rows × 26 columns</p>\n",
       "</div>"
      ],
      "text/plain": [
       "     User  Category 1  Category 2  Category 3  Category 4  Category 5  \\\n",
       "0  User 1         0.0         0.0        3.63        3.65         5.0   \n",
       "1  User 2         0.0         0.0        3.63        3.65         5.0   \n",
       "2  User 3         0.0         0.0        3.63        3.63         5.0   \n",
       "\n",
       "   Category 6  Category 7  Category 8  Category 9  ...  Category 16  \\\n",
       "0        2.92         5.0        2.35        2.33  ...         0.59   \n",
       "1        2.92         5.0        2.64        2.33  ...         0.59   \n",
       "2        2.92         5.0        2.64        2.33  ...         0.59   \n",
       "\n",
       "  Category 17  Category 18  Category 19  Category 20  Category 21  \\\n",
       "0         0.5          0.0          0.5          0.0          0.0   \n",
       "1         0.5          0.0          0.5          0.0          0.0   \n",
       "2         0.5          0.0          0.5          0.0          0.0   \n",
       "\n",
       "   Category 22  Category 23  Category 24  Unnamed: 25  \n",
       "0          0.0          0.0          0.0          NaN  \n",
       "1          0.0          0.0          0.0          NaN  \n",
       "2          0.0          0.0          0.0          NaN  \n",
       "\n",
       "[3 rows x 26 columns]"
      ]
     },
     "execution_count": 104,
     "metadata": {},
     "output_type": "execute_result"
    }
   ],
   "source": [
    "rating.head(n = 3)"
   ]
  },
  {
   "cell_type": "code",
   "execution_count": 98,
   "metadata": {},
   "outputs": [],
   "source": [
    "###As per UCI\n",
    "# Attribute 1 : Unique user id\n",
    "# Attribute 2 : Average ratings on churches\n",
    "# Attribute 3 : Average ratings on resorts\n",
    "# Attribute 4 : Average ratings on beaches\n",
    "# Attribute 5 : Average ratings on parks\n",
    "# Attribute 6 : Average ratings on theatres\n",
    "# Attribute 7 : Average ratings on museums\n",
    "# Attribute 8 : Average ratings on malls\n",
    "# Attribute 9 : Average ratings on zoo\n",
    "# Attribute 10 : Average ratings on restaurants\n",
    "# Attribute 11 : Average ratings on pubs/bars\n",
    "# Attribute 12 : Average ratings on local services\n",
    "# Attribute 13 : Average ratings on burger/pizza shops\n",
    "# Attribute 14 : Average ratings on hotels/other lodgings\n",
    "# Attribute 15 : Average ratings on juice bars\n",
    "# Attribute 16 : Average ratings on art galleries\n",
    "# Attribute 17 : Average ratings on dance clubs\n",
    "# Attribute 18 : Average ratings on swimming pools\n",
    "# Attribute 19 : Average ratings on gyms\n",
    "# Attribute 20 : Average ratings on bakeries\n",
    "# Attribute 21 : Average ratings on beauty & spas\n",
    "# Attribute 22 : Average ratings on cafes\n",
    "# Attribute 23 : Average ratings on view points\n",
    "# Attribute 24 : Average ratings on monuments\n",
    "# Attribute 25 : Average ratings on gardens"
   ]
  },
  {
   "cell_type": "code",
   "execution_count": 105,
   "metadata": {},
   "outputs": [],
   "source": [
    "column_names = ['user_id','churches','resorts','beaches','parks','theatres','museums','malls','zoo','restaurants','pubs/bars','local_services','burger_shops','hotels','juice_bars','art_galleries','dance_clubs','swimming_pools','gyms','bakeries','beauty_spa','cafes','view_points','monuments','gardens','unammed']"
   ]
  },
  {
   "cell_type": "code",
   "execution_count": 106,
   "metadata": {},
   "outputs": [],
   "source": [
    "rating.columns = column_names"
   ]
  },
  {
   "cell_type": "code",
   "execution_count": 107,
   "metadata": {},
   "outputs": [
    {
     "data": {
      "text/html": [
       "<div>\n",
       "<style scoped>\n",
       "    .dataframe tbody tr th:only-of-type {\n",
       "        vertical-align: middle;\n",
       "    }\n",
       "\n",
       "    .dataframe tbody tr th {\n",
       "        vertical-align: top;\n",
       "    }\n",
       "\n",
       "    .dataframe thead th {\n",
       "        text-align: right;\n",
       "    }\n",
       "</style>\n",
       "<table border=\"1\" class=\"dataframe\">\n",
       "  <thead>\n",
       "    <tr style=\"text-align: right;\">\n",
       "      <th></th>\n",
       "      <th>user_id</th>\n",
       "      <th>churches</th>\n",
       "      <th>resorts</th>\n",
       "      <th>beaches</th>\n",
       "      <th>parks</th>\n",
       "      <th>theatres</th>\n",
       "      <th>museums</th>\n",
       "      <th>malls</th>\n",
       "      <th>zoo</th>\n",
       "      <th>restaurants</th>\n",
       "      <th>...</th>\n",
       "      <th>dance_clubs</th>\n",
       "      <th>swimming_pools</th>\n",
       "      <th>gyms</th>\n",
       "      <th>bakeries</th>\n",
       "      <th>beauty_spa</th>\n",
       "      <th>cafes</th>\n",
       "      <th>view_points</th>\n",
       "      <th>monuments</th>\n",
       "      <th>gardens</th>\n",
       "      <th>unammed</th>\n",
       "    </tr>\n",
       "  </thead>\n",
       "  <tbody>\n",
       "    <tr>\n",
       "      <th>0</th>\n",
       "      <td>User 1</td>\n",
       "      <td>0.0</td>\n",
       "      <td>0.0</td>\n",
       "      <td>3.63</td>\n",
       "      <td>3.65</td>\n",
       "      <td>5.0</td>\n",
       "      <td>2.92</td>\n",
       "      <td>5.0</td>\n",
       "      <td>2.35</td>\n",
       "      <td>2.33</td>\n",
       "      <td>...</td>\n",
       "      <td>0.59</td>\n",
       "      <td>0.5</td>\n",
       "      <td>0.0</td>\n",
       "      <td>0.5</td>\n",
       "      <td>0.0</td>\n",
       "      <td>0.0</td>\n",
       "      <td>0.0</td>\n",
       "      <td>0.0</td>\n",
       "      <td>0.0</td>\n",
       "      <td>NaN</td>\n",
       "    </tr>\n",
       "    <tr>\n",
       "      <th>1</th>\n",
       "      <td>User 2</td>\n",
       "      <td>0.0</td>\n",
       "      <td>0.0</td>\n",
       "      <td>3.63</td>\n",
       "      <td>3.65</td>\n",
       "      <td>5.0</td>\n",
       "      <td>2.92</td>\n",
       "      <td>5.0</td>\n",
       "      <td>2.64</td>\n",
       "      <td>2.33</td>\n",
       "      <td>...</td>\n",
       "      <td>0.59</td>\n",
       "      <td>0.5</td>\n",
       "      <td>0.0</td>\n",
       "      <td>0.5</td>\n",
       "      <td>0.0</td>\n",
       "      <td>0.0</td>\n",
       "      <td>0.0</td>\n",
       "      <td>0.0</td>\n",
       "      <td>0.0</td>\n",
       "      <td>NaN</td>\n",
       "    </tr>\n",
       "    <tr>\n",
       "      <th>2</th>\n",
       "      <td>User 3</td>\n",
       "      <td>0.0</td>\n",
       "      <td>0.0</td>\n",
       "      <td>3.63</td>\n",
       "      <td>3.63</td>\n",
       "      <td>5.0</td>\n",
       "      <td>2.92</td>\n",
       "      <td>5.0</td>\n",
       "      <td>2.64</td>\n",
       "      <td>2.33</td>\n",
       "      <td>...</td>\n",
       "      <td>0.59</td>\n",
       "      <td>0.5</td>\n",
       "      <td>0.0</td>\n",
       "      <td>0.5</td>\n",
       "      <td>0.0</td>\n",
       "      <td>0.0</td>\n",
       "      <td>0.0</td>\n",
       "      <td>0.0</td>\n",
       "      <td>0.0</td>\n",
       "      <td>NaN</td>\n",
       "    </tr>\n",
       "    <tr>\n",
       "      <th>3</th>\n",
       "      <td>User 4</td>\n",
       "      <td>0.0</td>\n",
       "      <td>0.5</td>\n",
       "      <td>3.63</td>\n",
       "      <td>3.63</td>\n",
       "      <td>5.0</td>\n",
       "      <td>2.92</td>\n",
       "      <td>5.0</td>\n",
       "      <td>2.35</td>\n",
       "      <td>2.33</td>\n",
       "      <td>...</td>\n",
       "      <td>0.59</td>\n",
       "      <td>0.5</td>\n",
       "      <td>0.0</td>\n",
       "      <td>0.5</td>\n",
       "      <td>0.0</td>\n",
       "      <td>0.0</td>\n",
       "      <td>0.0</td>\n",
       "      <td>0.0</td>\n",
       "      <td>0.0</td>\n",
       "      <td>NaN</td>\n",
       "    </tr>\n",
       "    <tr>\n",
       "      <th>4</th>\n",
       "      <td>User 5</td>\n",
       "      <td>0.0</td>\n",
       "      <td>0.0</td>\n",
       "      <td>3.63</td>\n",
       "      <td>3.63</td>\n",
       "      <td>5.0</td>\n",
       "      <td>2.92</td>\n",
       "      <td>5.0</td>\n",
       "      <td>2.64</td>\n",
       "      <td>2.33</td>\n",
       "      <td>...</td>\n",
       "      <td>0.59</td>\n",
       "      <td>0.5</td>\n",
       "      <td>0.0</td>\n",
       "      <td>0.5</td>\n",
       "      <td>0.0</td>\n",
       "      <td>0.0</td>\n",
       "      <td>0.0</td>\n",
       "      <td>0.0</td>\n",
       "      <td>0.0</td>\n",
       "      <td>NaN</td>\n",
       "    </tr>\n",
       "  </tbody>\n",
       "</table>\n",
       "<p>5 rows × 26 columns</p>\n",
       "</div>"
      ],
      "text/plain": [
       "  user_id  churches  resorts  beaches  parks  theatres  museums  malls   zoo  \\\n",
       "0  User 1       0.0      0.0     3.63   3.65       5.0     2.92    5.0  2.35   \n",
       "1  User 2       0.0      0.0     3.63   3.65       5.0     2.92    5.0  2.64   \n",
       "2  User 3       0.0      0.0     3.63   3.63       5.0     2.92    5.0  2.64   \n",
       "3  User 4       0.0      0.5     3.63   3.63       5.0     2.92    5.0  2.35   \n",
       "4  User 5       0.0      0.0     3.63   3.63       5.0     2.92    5.0  2.64   \n",
       "\n",
       "   restaurants  ...  dance_clubs swimming_pools  gyms  bakeries  beauty_spa  \\\n",
       "0         2.33  ...         0.59            0.5   0.0       0.5         0.0   \n",
       "1         2.33  ...         0.59            0.5   0.0       0.5         0.0   \n",
       "2         2.33  ...         0.59            0.5   0.0       0.5         0.0   \n",
       "3         2.33  ...         0.59            0.5   0.0       0.5         0.0   \n",
       "4         2.33  ...         0.59            0.5   0.0       0.5         0.0   \n",
       "\n",
       "   cafes  view_points  monuments  gardens  unammed  \n",
       "0    0.0          0.0        0.0      0.0      NaN  \n",
       "1    0.0          0.0        0.0      0.0      NaN  \n",
       "2    0.0          0.0        0.0      0.0      NaN  \n",
       "3    0.0          0.0        0.0      0.0      NaN  \n",
       "4    0.0          0.0        0.0      0.0      NaN  \n",
       "\n",
       "[5 rows x 26 columns]"
      ]
     },
     "execution_count": 107,
     "metadata": {},
     "output_type": "execute_result"
    }
   ],
   "source": [
    "rating.head()"
   ]
  },
  {
   "cell_type": "code",
   "execution_count": 108,
   "metadata": {},
   "outputs": [
    {
     "name": "stdout",
     "output_type": "stream",
     "text": [
      "<class 'pandas.core.frame.DataFrame'>\n",
      "RangeIndex: 5456 entries, 0 to 5455\n",
      "Data columns (total 26 columns):\n",
      "user_id           5456 non-null object\n",
      "churches          5456 non-null float64\n",
      "resorts           5456 non-null float64\n",
      "beaches           5456 non-null float64\n",
      "parks             5456 non-null float64\n",
      "theatres          5456 non-null float64\n",
      "museums           5456 non-null float64\n",
      "malls             5456 non-null float64\n",
      "zoo               5456 non-null float64\n",
      "restaurants       5456 non-null float64\n",
      "pubs/bars         5456 non-null float64\n",
      "local_services    5456 non-null object\n",
      "burger_shops      5455 non-null float64\n",
      "hotels            5456 non-null float64\n",
      "juice_bars        5456 non-null float64\n",
      "art_galleries     5456 non-null float64\n",
      "dance_clubs       5456 non-null float64\n",
      "swimming_pools    5456 non-null float64\n",
      "gyms              5456 non-null float64\n",
      "bakeries          5456 non-null float64\n",
      "beauty_spa        5456 non-null float64\n",
      "cafes             5456 non-null float64\n",
      "view_points       5456 non-null float64\n",
      "monuments         5456 non-null float64\n",
      "gardens           5455 non-null float64\n",
      "unammed           2 non-null float64\n",
      "dtypes: float64(24), object(2)\n",
      "memory usage: 1.1+ MB\n"
     ]
    }
   ],
   "source": [
    "rating.info()"
   ]
  },
  {
   "cell_type": "markdown",
   "metadata": {},
   "source": [
    "#### Local services is in object type it needs conversrion in float"
   ]
  },
  {
   "cell_type": "code",
   "execution_count": 32,
   "metadata": {},
   "outputs": [],
   "source": [
    "#rating['local_services'] = rating['local_services'].astype('float')\n",
    "#Was giving error"
   ]
  },
  {
   "cell_type": "code",
   "execution_count": 109,
   "metadata": {},
   "outputs": [
    {
     "data": {
      "text/plain": [
       "2712    2\\t2.\n",
       "Name: local_services, dtype: object"
      ]
     },
     "execution_count": 109,
     "metadata": {},
     "output_type": "execute_result"
    }
   ],
   "source": [
    "rating['local_services'][rating['local_services'] == '2\\t2.']"
   ]
  },
  {
   "cell_type": "code",
   "execution_count": 110,
   "metadata": {},
   "outputs": [],
   "source": [
    "local_services_mean = rating['local_services'][rating['local_services'] != '2\\t2.']"
   ]
  },
  {
   "cell_type": "code",
   "execution_count": 111,
   "metadata": {},
   "outputs": [
    {
     "name": "stderr",
     "output_type": "stream",
     "text": [
      "C:\\Users\\chaitali.acharya\\AppData\\Local\\Continuum\\anaconda3\\lib\\site-packages\\ipykernel_launcher.py:1: SettingWithCopyWarning: \n",
      "A value is trying to be set on a copy of a slice from a DataFrame\n",
      "\n",
      "See the caveats in the documentation: http://pandas.pydata.org/pandas-docs/stable/indexing.html#indexing-view-versus-copy\n",
      "  \"\"\"Entry point for launching an IPython kernel.\n"
     ]
    }
   ],
   "source": [
    "rating['local_services'][rating['local_services'] == '2\\t2.'] = np.mean(local_services_mean.astype('float64'))"
   ]
  },
  {
   "cell_type": "code",
   "execution_count": 112,
   "metadata": {},
   "outputs": [],
   "source": [
    "rating['local_services'] = rating['local_services'].astype('float64')"
   ]
  },
  {
   "cell_type": "markdown",
   "metadata": {},
   "source": [
    "#### Target is to predict gym membersip\n",
    "* We dont have a column that will help us on that\n",
    "* We will create one from existing data column gyms"
   ]
  },
  {
   "cell_type": "code",
   "execution_count": 113,
   "metadata": {},
   "outputs": [],
   "source": [
    "def is_member(gym_rating):\n",
    "    if gym_rating >= 2.5:\n",
    "        return 1\n",
    "    else:\n",
    "        return 0\n",
    "rating['is_member'] = rating.gyms.map(is_member)"
   ]
  },
  {
   "cell_type": "code",
   "execution_count": 114,
   "metadata": {},
   "outputs": [],
   "source": [
    "feature = rating.drop(columns = ['user_id', 'unammed'])\n",
    "target = rating['is_member']"
   ]
  },
  {
   "cell_type": "code",
   "execution_count": 117,
   "metadata": {},
   "outputs": [],
   "source": [
    "from sklearn.model_selection import train_test_split\n",
    "X_train, X_test, y_train, y_test = train_test_split(feature,target)"
   ]
  },
  {
   "cell_type": "markdown",
   "metadata": {},
   "source": [
    "#### Ceating pipeline"
   ]
  },
  {
   "cell_type": "code",
   "execution_count": 119,
   "metadata": {},
   "outputs": [],
   "source": [
    "from sklearn.pipeline import make_pipeline\n",
    "from sklearn.impute import SimpleImputer\n",
    "from sklearn.preprocessing import StandardScaler\n",
    "from sklearn.ensemble import RandomForestClassifier\n",
    "from sklearn.model_selection import GridSearchCV"
   ]
  },
  {
   "cell_type": "code",
   "execution_count": 120,
   "metadata": {},
   "outputs": [],
   "source": [
    "pipeline = make_pipeline(SimpleImputer(strategy = 'mean'), StandardScaler(),RandomForestClassifier(n_estimators=200) )"
   ]
  },
  {
   "cell_type": "markdown",
   "metadata": {},
   "source": [
    "#### Just Attempting to apply hyper tuning"
   ]
  },
  {
   "cell_type": "code",
   "execution_count": 121,
   "metadata": {},
   "outputs": [
    {
     "data": {
      "text/plain": [
       "Pipeline(steps=[('simpleimputer', SimpleImputer()),\n",
       "                ('standardscaler', StandardScaler()),\n",
       "                ('randomforestclassifier',\n",
       "                 RandomForestClassifier(n_estimators=200))])"
      ]
     },
     "execution_count": 121,
     "metadata": {},
     "output_type": "execute_result"
    }
   ],
   "source": [
    "pipeline"
   ]
  },
  {
   "cell_type": "code",
   "execution_count": 132,
   "metadata": {},
   "outputs": [],
   "source": [
    "params = {'randomforestclassifier__n_estimators':[50,100,200,250]}"
   ]
  },
  {
   "cell_type": "code",
   "execution_count": 133,
   "metadata": {},
   "outputs": [],
   "source": [
    "gs = GridSearchCV(pipeline, param_grid=params, cv=5, n_jobs=4)"
   ]
  },
  {
   "cell_type": "code",
   "execution_count": 134,
   "metadata": {},
   "outputs": [
    {
     "data": {
      "text/plain": [
       "GridSearchCV(cv=5,\n",
       "             estimator=Pipeline(steps=[('simpleimputer', SimpleImputer()),\n",
       "                                       ('standardscaler', StandardScaler()),\n",
       "                                       ('randomforestclassifier',\n",
       "                                        RandomForestClassifier(n_estimators=200))]),\n",
       "             n_jobs=4,\n",
       "             param_grid={'randomforestclassifier__n_estimators': [50, 100, 200,\n",
       "                                                                  250]})"
      ]
     },
     "execution_count": 134,
     "metadata": {},
     "output_type": "execute_result"
    }
   ],
   "source": [
    "gs.fit(X_train, y_train)"
   ]
  },
  {
   "cell_type": "code",
   "execution_count": 135,
   "metadata": {},
   "outputs": [
    {
     "data": {
      "text/plain": [
       "{'randomforestclassifier__n_estimators': 50}"
      ]
     },
     "execution_count": 135,
     "metadata": {},
     "output_type": "execute_result"
    }
   ],
   "source": [
    "gs.best_params_"
   ]
  },
  {
   "cell_type": "markdown",
   "metadata": {},
   "source": [
    "#### Fitting the model"
   ]
  },
  {
   "cell_type": "code",
   "execution_count": 136,
   "metadata": {},
   "outputs": [
    {
     "data": {
      "text/plain": [
       "GridSearchCV(cv=5,\n",
       "             estimator=Pipeline(steps=[('simpleimputer', SimpleImputer()),\n",
       "                                       ('standardscaler', StandardScaler()),\n",
       "                                       ('randomforestclassifier',\n",
       "                                        RandomForestClassifier(n_estimators=200))]),\n",
       "             n_jobs=4,\n",
       "             param_grid={'randomforestclassifier__n_estimators': [50, 100, 200,\n",
       "                                                                  250]})"
      ]
     },
     "execution_count": 136,
     "metadata": {},
     "output_type": "execute_result"
    }
   ],
   "source": [
    "gs.fit(X_train, y_train)"
   ]
  },
  {
   "cell_type": "code",
   "execution_count": 137,
   "metadata": {},
   "outputs": [],
   "source": [
    "prediction = gs.predict(X_test)"
   ]
  },
  {
   "cell_type": "code",
   "execution_count": 138,
   "metadata": {},
   "outputs": [
    {
     "data": {
      "text/plain": [
       "array([0, 0, 0, ..., 0, 0, 0], dtype=int64)"
      ]
     },
     "execution_count": 138,
     "metadata": {},
     "output_type": "execute_result"
    }
   ],
   "source": [
    "prediction"
   ]
  },
  {
   "cell_type": "markdown",
   "metadata": {},
   "source": [
    "#### Please let me know a better way of doing this problem.Right now I have just attempted to apply learnt techniques on this data for assignment"
   ]
  }
 ],
 "metadata": {
  "kernelspec": {
   "display_name": "Python 3",
   "language": "python",
   "name": "python3"
  },
  "language_info": {
   "codemirror_mode": {
    "name": "ipython",
    "version": 3
   },
   "file_extension": ".py",
   "mimetype": "text/x-python",
   "name": "python",
   "nbconvert_exporter": "python",
   "pygments_lexer": "ipython3",
   "version": "3.7.3"
  }
 },
 "nbformat": 4,
 "nbformat_minor": 2
}
