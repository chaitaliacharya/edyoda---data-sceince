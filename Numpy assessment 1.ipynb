{
 "cells": [
  {
   "cell_type": "code",
   "execution_count": 2,
   "metadata": {},
   "outputs": [],
   "source": [
    "import numpy as np"
   ]
  },
  {
   "cell_type": "code",
   "execution_count": null,
   "metadata": {},
   "outputs": [],
   "source": [
    "#Count The Number Of Times Each Value Appears In An Array Of Integers"
   ]
  },
  {
   "cell_type": "code",
   "execution_count": 9,
   "metadata": {},
   "outputs": [
    {
     "data": {
      "text/plain": [
       "array([[1, 3],\n",
       "       [2, 2],\n",
       "       [3, 1],\n",
       "       [4, 1],\n",
       "       [5, 1],\n",
       "       [6, 1],\n",
       "       [7, 2]], dtype=int64)"
      ]
     },
     "execution_count": 9,
     "metadata": {},
     "output_type": "execute_result"
    }
   ],
   "source": [
    "l = [1,1,2,3,1,2,4,5,6,7,7]\n",
    "arr1 = np.array(l)\n",
    "arr1\n",
    "np.array(np.unique(arr1, return_counts=True)).T"
   ]
  },
  {
   "cell_type": "code",
   "execution_count": null,
   "metadata": {},
   "outputs": [],
   "source": [
    "#2. Given 9 Integers. You have to convert them into 3*3 Numpy array using Reshape function."
   ]
  },
  {
   "cell_type": "code",
   "execution_count": 17,
   "metadata": {},
   "outputs": [
    {
     "name": "stdout",
     "output_type": "stream",
     "text": [
      "[[1 2 3]\n",
      " [4 5 6]\n",
      " [7 8 9]]\n"
     ]
    }
   ],
   "source": [
    "arr2 = np.arange(1,10)\n",
    "arr2\n",
    "arr2  =np.reshape(arr2,(3,3))\n",
    "print(arr2)"
   ]
  },
  {
   "cell_type": "code",
   "execution_count": null,
   "metadata": {},
   "outputs": [],
   "source": [
    "#3. How to find the memory size of any array"
   ]
  },
  {
   "cell_type": "code",
   "execution_count": 21,
   "metadata": {},
   "outputs": [
    {
     "name": "stdout",
     "output_type": "stream",
     "text": [
      "36\n"
     ]
    }
   ],
   "source": [
    "print(arr2.nbytes)"
   ]
  },
  {
   "cell_type": "code",
   "execution_count": null,
   "metadata": {},
   "outputs": [],
   "source": [
    "#4. Create a 2d array of size 10 by 10 with 1 on the border and 0 inside."
   ]
  },
  {
   "cell_type": "code",
   "execution_count": 25,
   "metadata": {},
   "outputs": [
    {
     "name": "stdout",
     "output_type": "stream",
     "text": [
      "[[1 1 1 1 1 1 1 1 1 1]\n",
      " [1 0 0 0 0 0 0 0 0 1]\n",
      " [1 0 0 0 0 0 0 0 0 1]\n",
      " [1 0 0 0 0 0 0 0 0 1]\n",
      " [1 0 0 0 0 0 0 0 0 1]\n",
      " [1 0 0 0 0 0 0 0 0 1]\n",
      " [1 0 0 0 0 0 0 0 0 1]\n",
      " [1 0 0 0 0 0 0 0 0 1]\n",
      " [1 0 0 0 0 0 0 0 0 1]\n",
      " [1 1 1 1 1 1 1 1 1 1]]\n"
     ]
    }
   ],
   "source": [
    "arr4 = np.ones((10,10), dtype = int)\n",
    "arr4[1:-1,1:-1] = 0\n",
    "print(arr4)"
   ]
  },
  {
   "cell_type": "code",
   "execution_count": null,
   "metadata": {},
   "outputs": [],
   "source": [
    "#5.Create a 8x8 matrix and fill it with a checkerboard pattern."
   ]
  },
  {
   "cell_type": "code",
   "execution_count": 32,
   "metadata": {},
   "outputs": [],
   "source": [
    "checkboard = np.zeros((8,8), dtype= int )\n",
    "checkboard[1::2, 1::2] = 1\n",
    "checkboard[::2, 1::2] = 1"
   ]
  },
  {
   "cell_type": "code",
   "execution_count": 33,
   "metadata": {},
   "outputs": [
    {
     "data": {
      "text/plain": [
       "array([[0, 1, 0, 1, 0, 1, 0, 1],\n",
       "       [0, 1, 0, 1, 0, 1, 0, 1],\n",
       "       [0, 1, 0, 1, 0, 1, 0, 1],\n",
       "       [0, 1, 0, 1, 0, 1, 0, 1],\n",
       "       [0, 1, 0, 1, 0, 1, 0, 1],\n",
       "       [0, 1, 0, 1, 0, 1, 0, 1],\n",
       "       [0, 1, 0, 1, 0, 1, 0, 1],\n",
       "       [0, 1, 0, 1, 0, 1, 0, 1]])"
      ]
     },
     "execution_count": 33,
     "metadata": {},
     "output_type": "execute_result"
    }
   ],
   "source": [
    "checkboard"
   ]
  },
  {
   "cell_type": "code",
   "execution_count": null,
   "metadata": {},
   "outputs": [],
   "source": [
    "#6.Normalize a 5x5 random matrix"
   ]
  },
  {
   "cell_type": "code",
   "execution_count": 36,
   "metadata": {},
   "outputs": [
    {
     "data": {
      "text/plain": [
       "array([[ 0.0992225 ,  1.95656778,  2.72117901,  1.85905075, 10.26012692],\n",
       "       [ 2.81130405,  1.49864766,  0.        ,  2.53215533,  7.94332407],\n",
       "       [ 1.98444992,  0.41629102,  2.48455475,  2.91678652,  7.50202829],\n",
       "       [ 0.52918665,  0.20814551,  1.95215016,  0.35257859,  9.37753536],\n",
       "       [ 0.82685413,  2.91403713,  1.06480918,  0.70515718,  9.15688747]])"
      ]
     },
     "execution_count": 36,
     "metadata": {},
     "output_type": "execute_result"
    }
   ],
   "source": [
    "random_matrix = np.random.randint(1,100,(5,5))\n",
    "random_matrix\n",
    "normalize = (random_matrix  - random_matrix .min())/(random_matrix .std(axis=0))\n",
    "normalize"
   ]
  },
  {
   "cell_type": "code",
   "execution_count": null,
   "metadata": {},
   "outputs": [],
   "source": [
    "#7. Given a 1D array in range(0,11), negate all elements which are between 3 and 8, in place."
   ]
  },
  {
   "cell_type": "code",
   "execution_count": 45,
   "metadata": {},
   "outputs": [
    {
     "name": "stdout",
     "output_type": "stream",
     "text": [
      "[ 0  1  2  3  4  5  6  7  8  9 10]\n",
      "[ 0  1  2  3 -4 -5 -6 -7  8  9 10]\n"
     ]
    }
   ],
   "source": [
    "original = np.arange(0,11)\n",
    "print(original)\n",
    "negate = np.where((original > 3) & (original < 8))\n",
    "original[negate] =  original[negate] * (-1)\n",
    "print(original)"
   ]
  },
  {
   "cell_type": "code",
   "execution_count": null,
   "metadata": {},
   "outputs": [],
   "source": [
    "#8. How to get the dates of yesterday, today and tomorrow?"
   ]
  },
  {
   "cell_type": "code",
   "execution_count": 51,
   "metadata": {},
   "outputs": [
    {
     "name": "stdout",
     "output_type": "stream",
     "text": [
      "2020-02-14\n",
      "2020-02-15\n",
      "2020-02-16\n"
     ]
    }
   ],
   "source": [
    "yesterday = np.datetime64('today','D') - np.timedelta64('1', 'D')\n",
    "print(yesterday)\n",
    "today = np.datetime64('today', 'D')\n",
    "print(today)\n",
    "tomorrow = np.datetime64('today','D') + np.timedelta64('1','D')\n",
    "print(tomorrow)"
   ]
  },
  {
   "cell_type": "code",
   "execution_count": null,
   "metadata": {},
   "outputs": [],
   "source": [
    "#9.Generate two arrays of size 2X4 & 3X3, find difference between them."
   ]
  },
  {
   "cell_type": "code",
   "execution_count": 56,
   "metadata": {},
   "outputs": [
    {
     "name": "stdout",
     "output_type": "stream",
     "text": [
      "[[ 7 15 19 20]\n",
      " [ 5 12 10 14]]\n",
      "[[29 31 44]\n",
      " [40 39 17]\n",
      " [20 38 35]]\n"
     ]
    },
    {
     "ename": "ValueError",
     "evalue": "operands could not be broadcast together with shapes (2,4) (3,3) ",
     "output_type": "error",
     "traceback": [
      "\u001b[1;31m---------------------------------------------------------------------------\u001b[0m",
      "\u001b[1;31mValueError\u001b[0m                                Traceback (most recent call last)",
      "\u001b[1;32m<ipython-input-56-a0eb113ae83f>\u001b[0m in \u001b[0;36m<module>\u001b[1;34m\u001b[0m\n\u001b[0;32m      4\u001b[0m \u001b[0msecond\u001b[0m \u001b[1;33m=\u001b[0m \u001b[0mnp\u001b[0m\u001b[1;33m.\u001b[0m\u001b[0mrandom\u001b[0m\u001b[1;33m.\u001b[0m\u001b[0mrandint\u001b[0m\u001b[1;33m(\u001b[0m\u001b[1;36m11\u001b[0m\u001b[1;33m,\u001b[0m\u001b[1;36m50\u001b[0m\u001b[1;33m,\u001b[0m\u001b[1;33m(\u001b[0m\u001b[1;36m3\u001b[0m\u001b[1;33m,\u001b[0m\u001b[1;36m3\u001b[0m\u001b[1;33m)\u001b[0m\u001b[1;33m)\u001b[0m\u001b[1;33m\u001b[0m\u001b[1;33m\u001b[0m\u001b[0m\n\u001b[0;32m      5\u001b[0m \u001b[0mprint\u001b[0m\u001b[1;33m(\u001b[0m\u001b[0msecond\u001b[0m\u001b[1;33m)\u001b[0m\u001b[1;33m\u001b[0m\u001b[1;33m\u001b[0m\u001b[0m\n\u001b[1;32m----> 6\u001b[1;33m \u001b[0mprint\u001b[0m\u001b[1;33m(\u001b[0m\u001b[0mfirst\u001b[0m \u001b[1;33m-\u001b[0m \u001b[0msecond\u001b[0m\u001b[1;33m)\u001b[0m\u001b[1;33m\u001b[0m\u001b[1;33m\u001b[0m\u001b[0m\n\u001b[0m",
      "\u001b[1;31mValueError\u001b[0m: operands could not be broadcast together with shapes (2,4) (3,3) "
     ]
    }
   ],
   "source": [
    "first = np.random.randint(1,25,(2,4))\n",
    "print(first)\n",
    "#np.reshape(first,(3,3))\n",
    "second = np.random.randint(11,50,(3,3))\n",
    "print(second)\n",
    "print(first - second)"
   ]
  },
  {
   "cell_type": "code",
   "execution_count": null,
   "metadata": {},
   "outputs": [],
   "source": [
    "#10. Given 1d array of ['cat','dog','rat'], genrate 100 elements of 1d array consisting of the above 3 value ?"
   ]
  },
  {
   "cell_type": "code",
   "execution_count": 60,
   "metadata": {},
   "outputs": [
    {
     "name": "stdout",
     "output_type": "stream",
     "text": [
      "['cat' 'dog' 'rat']\n"
     ]
    }
   ],
   "source": [
    "l = ['cat','dog','rat']\n",
    "one_array = np.array(l)\n",
    "print(one_array)\n",
    "\n"
   ]
  },
  {
   "cell_type": "code",
   "execution_count": null,
   "metadata": {},
   "outputs": [],
   "source": [
    "#11. Given a two dimensional array, how to extract unique rows?"
   ]
  },
  {
   "cell_type": "code",
   "execution_count": 80,
   "metadata": {},
   "outputs": [
    {
     "name": "stdout",
     "output_type": "stream",
     "text": [
      "[[ 1  2  3]\n",
      " [ 1  2  3]\n",
      " [22 33 44]]\n",
      "\n",
      "[[ 1  2  3]\n",
      " [22 33 44]]\n"
     ]
    }
   ],
   "source": [
    "l = [[1,2,3], [1,2,3], [22,33,44]]\n",
    "a = np.array(l)\n",
    "print(a)\n",
    "unique = np.unique(a, axis =0 )\n",
    "print()\n",
    "print(unique)"
   ]
  },
  {
   "cell_type": "code",
   "execution_count": null,
   "metadata": {},
   "outputs": [],
   "source": [
    "#13. Create a structured array with x and y coordinates covering the [0,1]x[0,1] area."
   ]
  },
  {
   "cell_type": "code",
   "execution_count": null,
   "metadata": {},
   "outputs": [],
   "source": [
    "#14. How to find the closest value (to a given scalar) in a vector?"
   ]
  },
  {
   "cell_type": "code",
   "execution_count": null,
   "metadata": {},
   "outputs": [],
   "source": [
    "\n",
    "#15. Consider a random vector with shape (10,2) representing coordinates, find point by point distances. Use euclidian distance."
   ]
  },
  {
   "cell_type": "code",
   "execution_count": 88,
   "metadata": {},
   "outputs": [
    {
     "name": "stdout",
     "output_type": "stream",
     "text": [
      "[[ 8 16]\n",
      " [19 11]\n",
      " [16 15]\n",
      " [ 8 14]\n",
      " [ 9 11]\n",
      " [10  2]\n",
      " [ 9  1]\n",
      " [ 8 10]\n",
      " [10  3]\n",
      " [ 4  6]]\n",
      "[[ 8 19 16  8  9 10  9  8 10  4]] [[16 11 15 14 11  2  1 10  3  6]]\n",
      "[[ 0.         12.08304597  8.06225775  2.          5.09901951 14.14213562\n",
      "  15.03329638  6.         13.15294644 10.77032961]\n",
      " [12.08304597  0.          5.         11.40175425 10.         12.72792206\n",
      "  14.14213562 11.04536102 12.04159458 15.8113883 ]\n",
      " [ 8.06225775  5.          0.          8.06225775  8.06225775 14.31782106\n",
      "  15.65247584  9.43398113 13.41640786 15.        ]\n",
      " [ 2.         11.40175425  8.06225775  0.          3.16227766 12.16552506\n",
      "  13.03840481  4.         11.18033989  8.94427191]\n",
      " [ 5.09901951 10.          8.06225775  3.16227766  0.          9.05538514\n",
      "  10.          1.41421356  8.06225775  7.07106781]\n",
      " [14.14213562 12.72792206 14.31782106 12.16552506  9.05538514  0.\n",
      "   1.41421356  8.24621125  1.          7.21110255]\n",
      " [15.03329638 14.14213562 15.65247584 13.03840481 10.          1.41421356\n",
      "   0.          9.05538514  2.23606798  7.07106781]\n",
      " [ 6.         11.04536102  9.43398113  4.          1.41421356  8.24621125\n",
      "   9.05538514  0.          7.28010989  5.65685425]\n",
      " [13.15294644 12.04159458 13.41640786 11.18033989  8.06225775  1.\n",
      "   2.23606798  7.28010989  0.          6.70820393]\n",
      " [10.77032961 15.8113883  15.          8.94427191  7.07106781  7.21110255\n",
      "   7.07106781  5.65685425  6.70820393  0.        ]]\n"
     ]
    }
   ],
   "source": [
    "random_vector = np.random.randint(1,20,(10,2))\n",
    "print(random_vector)\n",
    "x, y = np.atleast_2d(random_vector[:,0],random_vector[:,1])\n",
    "print(x,y)\n",
    "euc_dist = np.sqrt(((x -x.T) **2) + ((y - y.T)**2))\n",
    "print(euc_dist)"
   ]
  },
  {
   "cell_type": "code",
   "execution_count": null,
   "metadata": {},
   "outputs": [],
   "source": [
    "#16.How to sort an array by the nth column?"
   ]
  },
  {
   "cell_type": "code",
   "execution_count": 93,
   "metadata": {},
   "outputs": [
    {
     "name": "stdout",
     "output_type": "stream",
     "text": [
      "[[ 9 13 10]\n",
      " [ 8 12 14]\n",
      " [12  6  9]]\n",
      "\n",
      "[[12  6  9]\n",
      " [ 9 13 10]\n",
      " [ 8 12 14]]\n"
     ]
    }
   ],
   "source": [
    "matrix = np.random.randint(1,20,(3,3))\n",
    "print(matrix)\n",
    "n = 2\n",
    "arr = matrix[matrix[:,n].argsort()]\n",
    "print()\n",
    "print(arr)"
   ]
  },
  {
   "cell_type": "code",
   "execution_count": null,
   "metadata": {},
   "outputs": [],
   "source": [
    "#17.How to tell if a given 2D array has null columns?"
   ]
  },
  {
   "cell_type": "code",
   "execution_count": 99,
   "metadata": {},
   "outputs": [
    {
     "data": {
      "text/plain": [
       "False"
      ]
     },
     "execution_count": 99,
     "metadata": {},
     "output_type": "execute_result"
    }
   ],
   "source": [
    "arr2\n",
    "np.isnan(arr2).any()"
   ]
  },
  {
   "cell_type": "code",
   "execution_count": null,
   "metadata": {},
   "outputs": [],
   "source": [
    "#18.Considering a two dimensions array, how to get sum over the last two columns at once?"
   ]
  },
  {
   "cell_type": "code",
   "execution_count": 103,
   "metadata": {},
   "outputs": [
    {
     "data": {
      "text/plain": [
       "array([[40,  9],\n",
       "       [30, 90]])"
      ]
     },
     "execution_count": 103,
     "metadata": {},
     "output_type": "execute_result"
    }
   ],
   "source": [
    "two_d"
   ]
  },
  {
   "cell_type": "code",
   "execution_count": 107,
   "metadata": {},
   "outputs": [
    {
     "name": "stdout",
     "output_type": "stream",
     "text": [
      "169\n"
     ]
    }
   ],
   "source": [
    "addition = two_d.reshape(two_d.shape[:-2] + (-1,)).sum(axis=0)\n",
    "print(addition)"
   ]
  },
  {
   "cell_type": "code",
   "execution_count": null,
   "metadata": {},
   "outputs": [],
   "source": [
    "#19. Given a 2d array of 5X5, increment 1st column by 1, second column by 2, 3rd column by 3 & so on till the last column"
   ]
  },
  {
   "cell_type": "code",
   "execution_count": 140,
   "metadata": {},
   "outputs": [
    {
     "name": "stdout",
     "output_type": "stream",
     "text": [
      "[[22  4 21  6 19]\n",
      " [ 5 24  7 13 24]\n",
      " [23 15 19 11  5]\n",
      " [ 5 15 15 15 19]\n",
      " [ 3  4  5 16 12]]\n",
      "\n",
      "[[22  4 21  6 19]\n",
      " [ 6 25  8 14 25]\n",
      " [25 17 21 13  7]\n",
      " [ 8 18 18 18 22]\n",
      " [ 7  8  9 20 16]]\n"
     ]
    }
   ],
   "source": [
    "array = np.random.randint(1,25,(5,5))\n",
    "print(array)\n",
    "l = []\n",
    "for i in range(5):\n",
    "    for j in range(5):\n",
    "        array[i][j] += i\n",
    "        l.append(array[i][j])\n",
    "l = np.array(l)\n",
    "l = l.reshape(5,5)\n",
    "print()\n",
    "print(l)"
   ]
  },
  {
   "cell_type": "code",
   "execution_count": null,
   "metadata": {},
   "outputs": [],
   "source": []
  },
  {
   "cell_type": "code",
   "execution_count": null,
   "metadata": {},
   "outputs": [],
   "source": [
    "#20.Given a 1d array(size 100) of boolean values, identify total number of True in it."
   ]
  },
  {
   "cell_type": "code",
   "execution_count": 130,
   "metadata": {},
   "outputs": [
    {
     "data": {
      "text/plain": [
       "100"
      ]
     },
     "execution_count": 130,
     "metadata": {},
     "output_type": "execute_result"
    }
   ],
   "source": [
    "array = np.ones((10,10), dtype = int)\n",
    "np.count_nonzero(array)"
   ]
  },
  {
   "cell_type": "code",
   "execution_count": null,
   "metadata": {},
   "outputs": [],
   "source": [
    "#21. Consider the vector [1, 2, 3, 4, 5], how to build a new vector with 3 consecutive zeros interleaved between each value?¶"
   ]
  },
  {
   "cell_type": "code",
   "execution_count": null,
   "metadata": {},
   "outputs": [],
   "source": []
  },
  {
   "cell_type": "code",
   "execution_count": null,
   "metadata": {},
   "outputs": [],
   "source": [
    "#22.How to swap two rows of an array?"
   ]
  },
  {
   "cell_type": "code",
   "execution_count": 122,
   "metadata": {},
   "outputs": [
    {
     "data": {
      "text/plain": [
       "array([[1, 2, 3],\n",
       "       [4, 5, 6],\n",
       "       [7, 8, 9]])"
      ]
     },
     "execution_count": 122,
     "metadata": {},
     "output_type": "execute_result"
    }
   ],
   "source": [
    "arr2"
   ]
  },
  {
   "cell_type": "code",
   "execution_count": 125,
   "metadata": {},
   "outputs": [
    {
     "data": {
      "text/plain": [
       "array([[1, 2, 3],\n",
       "       [7, 8, 9],\n",
       "       [4, 5, 6]])"
      ]
     },
     "execution_count": 125,
     "metadata": {},
     "output_type": "execute_result"
    }
   ],
   "source": [
    "arr2[[1, 2]] = arr2[[2, 1]]\n",
    "arr2"
   ]
  },
  {
   "cell_type": "code",
   "execution_count": null,
   "metadata": {},
   "outputs": [],
   "source": [
    "#23.How to get n largest value of an array?"
   ]
  },
  {
   "cell_type": "code",
   "execution_count": null,
   "metadata": {},
   "outputs": [],
   "source": []
  },
  {
   "cell_type": "code",
   "execution_count": null,
   "metadata": {},
   "outputs": [],
   "source": [
    "#24.How to get index of top two highest value in a 1d array?"
   ]
  },
  {
   "cell_type": "code",
   "execution_count": null,
   "metadata": {},
   "outputs": [],
   "source": [
    "#24Given two random arrays of shape 5X5, identify the common elements between them"
   ]
  },
  {
   "cell_type": "code",
   "execution_count": 121,
   "metadata": {},
   "outputs": [
    {
     "name": "stdout",
     "output_type": "stream",
     "text": [
      "[[ 4  4 18  5  4]\n",
      " [ 2  5  8  7 16]\n",
      " [11 19  9 10  3]\n",
      " [12 16  8  6  9]\n",
      " [13  3  8  6 18]]\n",
      "\n",
      "[[ 8  7 17  9  5]\n",
      " [ 7 16 14 18  5]\n",
      " [18 17 18 12 10]\n",
      " [ 9 10 19  8  3]\n",
      " [ 3 18 17  7  4]]\n"
     ]
    },
    {
     "data": {
      "text/plain": [
       "array([ 3,  4,  5,  7,  8,  9, 10, 12, 16, 18, 19])"
      ]
     },
     "execution_count": 121,
     "metadata": {},
     "output_type": "execute_result"
    }
   ],
   "source": [
    "first_array = np.random.randint(1,20,(5,5))\n",
    "print(first_array)\n",
    "second_array = np.random.randint(2,20,(5,5))\n",
    "print()\n",
    "print(second_array)\n",
    "np.intersect1d(first_array, second_array)"
   ]
  },
  {
   "cell_type": "code",
   "execution_count": null,
   "metadata": {},
   "outputs": [],
   "source": []
  },
  {
   "cell_type": "code",
   "execution_count": null,
   "metadata": {},
   "outputs": [],
   "source": []
  },
  {
   "cell_type": "code",
   "execution_count": null,
   "metadata": {},
   "outputs": [],
   "source": [
    "#25. How to get index of top two highest value in a 1d array?"
   ]
  },
  {
   "cell_type": "code",
   "execution_count": 119,
   "metadata": {},
   "outputs": [
    {
     "name": "stdout",
     "output_type": "stream",
     "text": [
      "[  2  22  11 -11  33   7  13 872 -23]\n"
     ]
    },
    {
     "data": {
      "text/plain": [
       "7"
      ]
     },
     "execution_count": 119,
     "metadata": {},
     "output_type": "execute_result"
    }
   ],
   "source": [
    "l = [2,22,11,-11,33,7,13,872,-23]\n",
    "arr_top = np.array(l)\n",
    "print(arr_top)\n",
    "highest = np.argmax(arr_top)\n",
    "np.argmax()"
   ]
  }
 ],
 "metadata": {
  "kernelspec": {
   "display_name": "Python 3",
   "language": "python",
   "name": "python3"
  },
  "language_info": {
   "codemirror_mode": {
    "name": "ipython",
    "version": 3
   },
   "file_extension": ".py",
   "mimetype": "text/x-python",
   "name": "python",
   "nbconvert_exporter": "python",
   "pygments_lexer": "ipython3",
   "version": "3.7.1"
  }
 },
 "nbformat": 4,
 "nbformat_minor": 2
}
