{
 "cells": [
  {
   "cell_type": "markdown",
   "metadata": {},
   "source": [
    "### Medicare"
   ]
  },
  {
   "cell_type": "markdown",
   "metadata": {},
   "source": [
    "#### Medicare is the USA federal government program that provides health care coverage (health insurance) \n",
    "\n",
    "* If you are 65+ \n",
    "* Under 65 and receiving Social Security Disability Insurance (SSDI) for a certain amount of time\n",
    "* Under 65 and with End-Stage Renal Disease (ESRD)."
   ]
  },
  {
   "cell_type": "markdown",
   "metadata": {},
   "source": [
    "#### Who funds  Medicare ?\n",
    "* The US Hospital Insurance (HI) Trust Fund\n",
    "* Supplementary Medical Insurance (SMI) Trust Fund"
   ]
  },
  {
   "cell_type": "markdown",
   "metadata": {},
   "source": [
    "#### What does Medicare pay for?\n",
    "* Medicare Part A (Hospital Insurance)   benefits , \n",
    "    * like inpatient hospital care\n",
    "    * skilled nursing facility (snf) care \n",
    "    * home health care \n",
    "    * hospice care\n",
    "* Medicare Part B like benefits cover certain non-hospital medical expenses like doctors’ office visits,\n",
    "  * blood test\n",
    "  * X-rays\n",
    "  * diabetic screenings and supplies\n",
    "  * outpatient hospital care.\n",
    "* Medicare Part D for precription drugs"
   ]
  },
  {
   "cell_type": "markdown",
   "metadata": {},
   "source": [
    "#### Data Source\n",
    "* https://data.medicare.gov/"
   ]
  },
  {
   "cell_type": "markdown",
   "metadata": {},
   "source": [
    "#### Data"
   ]
  },
  {
   "cell_type": "code",
   "execution_count": 1,
   "metadata": {},
   "outputs": [],
   "source": [
    "import pandas as pd"
   ]
  },
  {
   "cell_type": "code",
   "execution_count": 2,
   "metadata": {},
   "outputs": [],
   "source": [
    "medicare = pd.read_csv('Medicare Hospital Spending by Claim.csv')"
   ]
  },
  {
   "cell_type": "code",
   "execution_count": 3,
   "metadata": {},
   "outputs": [
    {
     "data": {
      "text/html": [
       "<div>\n",
       "<style scoped>\n",
       "    .dataframe tbody tr th:only-of-type {\n",
       "        vertical-align: middle;\n",
       "    }\n",
       "\n",
       "    .dataframe tbody tr th {\n",
       "        vertical-align: top;\n",
       "    }\n",
       "\n",
       "    .dataframe thead th {\n",
       "        text-align: right;\n",
       "    }\n",
       "</style>\n",
       "<table border=\"1\" class=\"dataframe\">\n",
       "  <thead>\n",
       "    <tr style=\"text-align: right;\">\n",
       "      <th></th>\n",
       "      <th>Facility Name</th>\n",
       "      <th>Facility ID</th>\n",
       "      <th>State</th>\n",
       "      <th>Period</th>\n",
       "      <th>Claim Type</th>\n",
       "      <th>Avg Spndg Per EP Hospital</th>\n",
       "      <th>Avg Spndg Per EP State</th>\n",
       "      <th>Avg Spndg Per EP National</th>\n",
       "      <th>Percent of Spndg Hospital</th>\n",
       "      <th>Percent of Spndg State</th>\n",
       "      <th>Percent of Spndg National</th>\n",
       "      <th>Start Date</th>\n",
       "      <th>End Date</th>\n",
       "    </tr>\n",
       "  </thead>\n",
       "  <tbody>\n",
       "    <tr>\n",
       "      <th>0</th>\n",
       "      <td>SOUTHEAST ALABAMA MEDICAL CENTER</td>\n",
       "      <td>10001</td>\n",
       "      <td>AL</td>\n",
       "      <td>1 to 3 days Prior to Index Hospital Admission</td>\n",
       "      <td>Home Health Agency</td>\n",
       "      <td>21</td>\n",
       "      <td>16</td>\n",
       "      <td>13</td>\n",
       "      <td>0.09%</td>\n",
       "      <td>0.08%</td>\n",
       "      <td>0.06%</td>\n",
       "      <td>01/01/2018</td>\n",
       "      <td>12/31/2018</td>\n",
       "    </tr>\n",
       "    <tr>\n",
       "      <th>1</th>\n",
       "      <td>SOUTHEAST ALABAMA MEDICAL CENTER</td>\n",
       "      <td>10001</td>\n",
       "      <td>AL</td>\n",
       "      <td>1 to 3 days Prior to Index Hospital Admission</td>\n",
       "      <td>Hospice</td>\n",
       "      <td>2</td>\n",
       "      <td>1</td>\n",
       "      <td>1</td>\n",
       "      <td>0.01%</td>\n",
       "      <td>0.00%</td>\n",
       "      <td>0.00%</td>\n",
       "      <td>01/01/2018</td>\n",
       "      <td>12/31/2018</td>\n",
       "    </tr>\n",
       "    <tr>\n",
       "      <th>2</th>\n",
       "      <td>SOUTHEAST ALABAMA MEDICAL CENTER</td>\n",
       "      <td>10001</td>\n",
       "      <td>AL</td>\n",
       "      <td>1 to 3 days Prior to Index Hospital Admission</td>\n",
       "      <td>Inpatient</td>\n",
       "      <td>6</td>\n",
       "      <td>7</td>\n",
       "      <td>7</td>\n",
       "      <td>0.03%</td>\n",
       "      <td>0.04%</td>\n",
       "      <td>0.03%</td>\n",
       "      <td>01/01/2018</td>\n",
       "      <td>12/31/2018</td>\n",
       "    </tr>\n",
       "    <tr>\n",
       "      <th>3</th>\n",
       "      <td>SOUTHEAST ALABAMA MEDICAL CENTER</td>\n",
       "      <td>10001</td>\n",
       "      <td>AL</td>\n",
       "      <td>1 to 3 days Prior to Index Hospital Admission</td>\n",
       "      <td>Outpatient</td>\n",
       "      <td>219</td>\n",
       "      <td>108</td>\n",
       "      <td>152</td>\n",
       "      <td>0.95%</td>\n",
       "      <td>0.52%</td>\n",
       "      <td>0.70%</td>\n",
       "      <td>01/01/2018</td>\n",
       "      <td>12/31/2018</td>\n",
       "    </tr>\n",
       "    <tr>\n",
       "      <th>4</th>\n",
       "      <td>SOUTHEAST ALABAMA MEDICAL CENTER</td>\n",
       "      <td>10001</td>\n",
       "      <td>AL</td>\n",
       "      <td>1 to 3 days Prior to Index Hospital Admission</td>\n",
       "      <td>Skilled Nursing Facility</td>\n",
       "      <td>1</td>\n",
       "      <td>2</td>\n",
       "      <td>2</td>\n",
       "      <td>0.00%</td>\n",
       "      <td>0.01%</td>\n",
       "      <td>0.01%</td>\n",
       "      <td>01/01/2018</td>\n",
       "      <td>12/31/2018</td>\n",
       "    </tr>\n",
       "  </tbody>\n",
       "</table>\n",
       "</div>"
      ],
      "text/plain": [
       "                      Facility Name  Facility ID State  \\\n",
       "0  SOUTHEAST ALABAMA MEDICAL CENTER        10001    AL   \n",
       "1  SOUTHEAST ALABAMA MEDICAL CENTER        10001    AL   \n",
       "2  SOUTHEAST ALABAMA MEDICAL CENTER        10001    AL   \n",
       "3  SOUTHEAST ALABAMA MEDICAL CENTER        10001    AL   \n",
       "4  SOUTHEAST ALABAMA MEDICAL CENTER        10001    AL   \n",
       "\n",
       "                                          Period                Claim Type  \\\n",
       "0  1 to 3 days Prior to Index Hospital Admission        Home Health Agency   \n",
       "1  1 to 3 days Prior to Index Hospital Admission                   Hospice   \n",
       "2  1 to 3 days Prior to Index Hospital Admission                 Inpatient   \n",
       "3  1 to 3 days Prior to Index Hospital Admission                Outpatient   \n",
       "4  1 to 3 days Prior to Index Hospital Admission  Skilled Nursing Facility   \n",
       "\n",
       "   Avg Spndg Per EP Hospital  Avg Spndg Per EP State  \\\n",
       "0                         21                      16   \n",
       "1                          2                       1   \n",
       "2                          6                       7   \n",
       "3                        219                     108   \n",
       "4                          1                       2   \n",
       "\n",
       "   Avg Spndg Per EP National Percent of Spndg Hospital Percent of Spndg State  \\\n",
       "0                         13                     0.09%                  0.08%   \n",
       "1                          1                     0.01%                  0.00%   \n",
       "2                          7                     0.03%                  0.04%   \n",
       "3                        152                     0.95%                  0.52%   \n",
       "4                          2                     0.00%                  0.01%   \n",
       "\n",
       "  Percent of Spndg National  Start Date    End Date  \n",
       "0                     0.06%  01/01/2018  12/31/2018  \n",
       "1                     0.00%  01/01/2018  12/31/2018  \n",
       "2                     0.03%  01/01/2018  12/31/2018  \n",
       "3                     0.70%  01/01/2018  12/31/2018  \n",
       "4                     0.01%  01/01/2018  12/31/2018  "
      ]
     },
     "execution_count": 3,
     "metadata": {},
     "output_type": "execute_result"
    }
   ],
   "source": [
    "medicare.head()"
   ]
  },
  {
   "cell_type": "markdown",
   "metadata": {},
   "source": [
    "#### Problem Statement Created by looking at the data\n",
    "* How much is spent over Inpatient and Outpatient services by the state , nation and hospital\n",
    "* Statewise spending done on Nursing facility\n",
    "* Analysis of spending done for medical facilities\n",
    "* For which period is the spending done more \n",
    "* Comparison of spending done for Inpatient VS Spending for Outpatient\n",
    "* Grouping the spending into buckets which will tell us which medical facility belongs to which bucket (need to look into it)\n",
    "\n",
    "These problem statements can help Medicare people to get an idea about how the spending is happening"
   ]
  },
  {
   "cell_type": "code",
   "execution_count": null,
   "metadata": {},
   "outputs": [],
   "source": []
  }
 ],
 "metadata": {
  "kernelspec": {
   "display_name": "Python 3",
   "language": "python",
   "name": "python3"
  },
  "language_info": {
   "codemirror_mode": {
    "name": "ipython",
    "version": 3
   },
   "file_extension": ".py",
   "mimetype": "text/x-python",
   "name": "python",
   "nbconvert_exporter": "python",
   "pygments_lexer": "ipython3",
   "version": "3.7.3"
  }
 },
 "nbformat": 4,
 "nbformat_minor": 2
}
